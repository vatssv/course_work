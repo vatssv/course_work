{
  "nbformat": 4,
  "nbformat_minor": 0,
  "metadata": {
    "colab": {
      "name": "Neural Networks.ipynb",
      "provenance": []
    },
    "kernelspec": {
      "name": "python3",
      "display_name": "Python 3"
    },
    "language_info": {
      "name": "python"
    },
    "accelerator": "GPU"
  },
  "cells": [
    {
      "cell_type": "code",
      "metadata": {
        "id": "fcIjO-1SJY_u"
      },
      "source": [
        "import tensorflow as tf\n",
        "from tensorflow import keras\n",
        "import numpy as np\n",
        "import scipy.io as io\n",
        "from sklearn.preprocessing import LabelEncoder\n",
        "from sklearn.preprocessing import OneHotEncoder"
      ],
      "execution_count": 49,
      "outputs": []
    },
    {
      "cell_type": "code",
      "metadata": {
        "id": "_2U4Fl8vLaDC"
      },
      "source": [
        "#load the data\n",
        "trX = io.loadmat('train_32x32.mat')['X']\n",
        "trY = io.loadmat('train_32x32.mat')['y']\n",
        "tsX = io.loadmat('test_32x32.mat')['X']\n",
        "tsY = io.loadmat('test_32x32.mat')['y']"
      ],
      "execution_count": 50,
      "outputs": []
    },
    {
      "cell_type": "code",
      "metadata": {
        "id": "abDIRJWZLjxt"
      },
      "source": [
        "from keras.utils import to_categorical\n",
        "#one-hot encode the labels\n",
        "trY = to_categorical(trY)\n",
        "tsY = to_categorical(tsY)"
      ],
      "execution_count": 51,
      "outputs": []
    },
    {
      "cell_type": "code",
      "metadata": {
        "id": "1F621Z2DlYAs"
      },
      "source": [
        "# normalize the pixel values to restrict between 0 and 1\n",
        "trX = np.array(trX)\n",
        "trX = trX/255\n",
        "tsX = np.array(tsX)\n",
        "tsX = tsX/255\n",
        "# reshape to format expected by the model\n",
        "trX = trX.reshape(len(trX), 32, 32, 3)\n",
        "tsX = tsX.reshape(len(tsX), 32, 32, 3)"
      ],
      "execution_count": 52,
      "outputs": []
    },
    {
      "cell_type": "code",
      "metadata": {
        "id": "RuGKRljXy2eC"
      },
      "source": [
        "from keras.models import Sequential\n",
        "from keras.layers import Dense, Conv2D, Flatten, MaxPooling2D\n",
        "#creating the model\n",
        "model = Sequential()\n",
        "# adding individual layers of the model as per specifications\n",
        "model.add(Conv2D(64, kernel_size=5, activation='relu', input_shape=(32,32,3)))\n",
        "model.add(MaxPooling2D(pool_size=(2, 2), strides=2, padding=\"same\"))\n",
        "model.add(Conv2D(64, kernel_size=5, activation='relu', input_shape=(32,32,3)))\n",
        "model.add(MaxPooling2D(pool_size=(2, 2), strides=2, padding=\"same\"))\n",
        "model.add(Conv2D(128, kernel_size=5, activation='relu', input_shape=(32,32,3)))\n",
        "# flatten to connect the convolutional layers to dense/connected layers\n",
        "model.add(Flatten())\n",
        "model.add(Dense(3072, activation='relu'))\n",
        "model.add(Dense(2048, activation='relu'))\n",
        "model.add(Dense(10, activation='softmax'))"
      ],
      "execution_count": 53,
      "outputs": []
    },
    {
      "cell_type": "code",
      "metadata": {
        "id": "2AAnN7FPPFPr"
      },
      "source": [
        "# compile the model with specified learning rate and optimizer\n",
        "opt = keras.optimizers.SGD(learning_rate=0.01)\n",
        "model.compile(optimizer=opt, loss='categorical_crossentropy', metrics=['accuracy'])"
      ],
      "execution_count": 54,
      "outputs": []
    },
    {
      "cell_type": "code",
      "metadata": {
        "colab": {
          "base_uri": "https://localhost:8080/"
        },
        "id": "t5XR1myXPR0P",
        "outputId": "290d1a36-15e1-48e2-f1c1-d9004d02f070"
      },
      "source": [
        "#train the model\n",
        "res = model.fit(trX, trY, validation_data=(tsX, tsY), epochs=20)"
      ],
      "execution_count": 55,
      "outputs": [
        {
          "output_type": "stream",
          "text": [
            "Epoch 1/20\n",
            "2290/2290 [==============================] - 14s 6ms/step - loss: 2.2491 - accuracy: 0.1848 - val_loss: 2.2030 - val_accuracy: 0.2056\n",
            "Epoch 2/20\n",
            "2290/2290 [==============================] - 12s 5ms/step - loss: 2.0262 - accuracy: 0.2833 - val_loss: 1.1237 - val_accuracy: 0.6479\n",
            "Epoch 3/20\n",
            "2290/2290 [==============================] - 12s 5ms/step - loss: 0.7632 - accuracy: 0.7770 - val_loss: 0.6639 - val_accuracy: 0.8111\n",
            "Epoch 4/20\n",
            "2290/2290 [==============================] - 13s 6ms/step - loss: 0.5434 - accuracy: 0.8433 - val_loss: 0.5905 - val_accuracy: 0.8332\n",
            "Epoch 5/20\n",
            "2290/2290 [==============================] - 12s 5ms/step - loss: 0.4507 - accuracy: 0.8668 - val_loss: 0.4805 - val_accuracy: 0.8610\n",
            "Epoch 6/20\n",
            "2290/2290 [==============================] - 12s 5ms/step - loss: 0.3905 - accuracy: 0.8837 - val_loss: 0.4506 - val_accuracy: 0.8699\n",
            "Epoch 7/20\n",
            "2290/2290 [==============================] - 12s 5ms/step - loss: 0.3583 - accuracy: 0.8944 - val_loss: 0.4241 - val_accuracy: 0.8791\n",
            "Epoch 8/20\n",
            "2290/2290 [==============================] - 12s 5ms/step - loss: 0.3269 - accuracy: 0.9041 - val_loss: 0.4274 - val_accuracy: 0.8754\n",
            "Epoch 9/20\n",
            "2290/2290 [==============================] - 12s 5ms/step - loss: 0.3040 - accuracy: 0.9098 - val_loss: 0.3988 - val_accuracy: 0.8857\n",
            "Epoch 10/20\n",
            "2290/2290 [==============================] - 12s 5ms/step - loss: 0.2813 - accuracy: 0.9171 - val_loss: 0.3979 - val_accuracy: 0.8879\n",
            "Epoch 11/20\n",
            "2290/2290 [==============================] - 12s 5ms/step - loss: 0.2638 - accuracy: 0.9221 - val_loss: 0.3880 - val_accuracy: 0.8881\n",
            "Epoch 12/20\n",
            "2290/2290 [==============================] - 12s 5ms/step - loss: 0.2515 - accuracy: 0.9260 - val_loss: 0.3945 - val_accuracy: 0.8883\n",
            "Epoch 13/20\n",
            "2290/2290 [==============================] - 12s 5ms/step - loss: 0.2357 - accuracy: 0.9302 - val_loss: 0.3816 - val_accuracy: 0.8918\n",
            "Epoch 14/20\n",
            "2290/2290 [==============================] - 12s 5ms/step - loss: 0.2243 - accuracy: 0.9350 - val_loss: 0.3669 - val_accuracy: 0.8966\n",
            "Epoch 15/20\n",
            "2290/2290 [==============================] - 13s 6ms/step - loss: 0.2019 - accuracy: 0.9410 - val_loss: 0.3792 - val_accuracy: 0.8969\n",
            "Epoch 16/20\n",
            "2290/2290 [==============================] - 12s 5ms/step - loss: 0.1990 - accuracy: 0.9427 - val_loss: 0.3981 - val_accuracy: 0.8911\n",
            "Epoch 17/20\n",
            "2290/2290 [==============================] - 12s 5ms/step - loss: 0.1845 - accuracy: 0.9469 - val_loss: 0.3972 - val_accuracy: 0.8892\n",
            "Epoch 18/20\n",
            "2290/2290 [==============================] - 12s 5ms/step - loss: 0.1701 - accuracy: 0.9499 - val_loss: 0.4003 - val_accuracy: 0.8914\n",
            "Epoch 19/20\n",
            "2290/2290 [==============================] - 12s 5ms/step - loss: 0.1612 - accuracy: 0.9541 - val_loss: 0.3917 - val_accuracy: 0.8958\n",
            "Epoch 20/20\n",
            "2290/2290 [==============================] - 12s 5ms/step - loss: 0.1476 - accuracy: 0.9561 - val_loss: 0.3976 - val_accuracy: 0.8986\n"
          ],
          "name": "stdout"
        }
      ]
    },
    {
      "cell_type": "code",
      "metadata": {
        "id": "bYOx1mRJ1HFK"
      },
      "source": [
        "# extract the training and testing error from model run\n",
        "tr_loss = res.history['loss']\n",
        "ts_loss = res.history['val_loss']\n",
        "tr_acc = res.history['accuracy']\n",
        "ts_acc = res.history['val_accuracy']\n",
        "epochs = [i for i in range(0, 20)]"
      ],
      "execution_count": 56,
      "outputs": []
    },
    {
      "cell_type": "code",
      "metadata": {
        "colab": {
          "base_uri": "https://localhost:8080/",
          "height": 265
        },
        "id": "q44khESaMqpt",
        "outputId": "67c4bbd4-aec2-4c43-a956-6f78314b6fa8"
      },
      "source": [
        "# plotting the training and testing error against epochs\n",
        "import matplotlib.pyplot as plt\n",
        "plt.xticks(np.arange(0, len(epochs)+1, 1))\n",
        "plt.plot(epochs, tr_loss, label='Training Error')\n",
        "plt.plot(epochs, ts_loss, label='Testing Error')\n",
        "plt.legend()\n",
        "plt.show()"
      ],
      "execution_count": 57,
      "outputs": [
        {
          "output_type": "display_data",
          "data": {
            "image/png": "[encoded data removed]",
            "text/plain": [
              "<Figure size 432x288 with 1 Axes>"
            ]
          },
          "metadata": {
            "tags": [],
            "needs_background": "light"
          }
        }
      ]
    }
  ]
}